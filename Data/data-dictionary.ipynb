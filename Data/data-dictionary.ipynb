{
 "cells": [
  {
   "attachments": {},
   "cell_type": "markdown",
   "id": "8dff3d55",
   "metadata": {},
   "source": [
    "# Data Dictionary"
   ]
  },
  {
   "cell_type": "markdown",
   "id": "fd498e94-d3d6-49a9-bcaf-a6e1adc71d0c",
   "metadata": {
    "deletable": false,
    "editable": false
   },
   "source": [
    "Below is a summary of the features stored in the the `nepal.sqlite` database."
   ]
  },
  {
   "cell_type": "markdown",
   "id": "ca612aed-9f63-40b3-9e8a-9819797c9e4c",
   "metadata": {
    "deletable": false,
    "editable": false
   },
   "source": [
    "# Table `building_structure`"
   ]
  },
  {
   "cell_type": "markdown",
   "id": "60b04cdd-538e-49b6-a9e4-28d0a4c23e64",
   "metadata": {
    "deletable": false,
    "editable": false
   },
   "source": [
    "|Variable                              |Description                                                                                        |Type       |\n",
    "|:-------------------------------------|:--------------------------------------------------------------------------------------------------|:----------|\n",
    "|`age_building`                          |Age of the building (in years)                                                                     |Number     |\n",
    "|`building_id`                           |A unique ID that identifies a unique building from the survey                                      |Text       |\n",
    "|`condition_post_eq`                     |Actual condition of the building after the earthquake                                              |Categorical|\n",
    "|`count_floors_post_eq`                  |Number of floors that the building had after the earthquake                                        |Number     |\n",
    "|`count_floors_pre_eq`                   |Number of floors that the building had before the earthquake                                       |Number     |\n",
    "|`foundation_type`                       |Type of foundation used in the building                                                            |Categorical|\n",
    "|`ground_floor_type`                     |Ground floor type                                                                                  |Categorical|\n",
    "|`height_ft_post_eq`                     |Height of the building after the earthquake (in feet)                                              |Number     |\n",
    "|`height_ft_pre_eq`                      |Height of the building before the earthquake (in feet)                                             |Number     |\n",
    "|`land_surface_condition`                |Surface condition of the land in which the building is built                                       |categorical|\n",
    "|`other_floor_type`                      |Type of construction used in other floors (except ground floor and roof)                           |Categorical|\n",
    "|`plan_configuration`                    |Building plan configuration                                                                        |Categorical|\n",
    "|`plinth_area_sq_ft`                     |Plinth area of the building (in square feet)                                                       |Number     |\n",
    "|`position`                              |Position of the building                                                                           |Categorical|\n",
    "|`roof_type`                             |Type of roof used in the building. Categories are (1) light bamboo/timber, (2) heavy bamboo timber, and (3) reinforced cement concrete/reinforced brick/reinforced brick concrete                                                                |Categorical|\n",
    "|`superstructure`                        |Superstructure of the building|Categorical\n"
   ]
  },
  {
   "cell_type": "markdown",
   "id": "0039a5d4-04bf-4025-b006-79b3c3715793",
   "metadata": {
    "deletable": false,
    "editable": false
   },
   "source": [
    "# Table `building_damage`"
   ]
  },
  {
   "cell_type": "markdown",
   "id": "23aa3d87-30a0-49c0-a93c-658b44c06e68",
   "metadata": {
    "deletable": false,
    "editable": false
   },
   "source": [
    "|Variable                                              |Description                                                                                                                                                                                      |Type       |\n",
    "|:-----------------------------------------------------|:------------------------------------------------------------------------------------------------------------------------------------------------------------------------------------------------|:----------|\n",
    "|`area_assesed`                                        |Indicates the nature of the damage assessment in terms of the areas of the building that were assessed                                                                                           |Categorical|\n",
    "|`building_id`                                         |A unique ID that identifies every individual building in the survey                                                                                                                              |Text       |\n",
    "|`damage_beam_failure_insignificant`                   |Categorical variable that captures insignificant beam failure related damage to the building in terms of the proportion of overall area that is insignificantly damaged                          |Categorical|\n",
    "|`damage_beam_failure_moderate`                        |Categorical variable that captures moderate beam failure related damage to the building in terms of the proportion of overall area that is moderately damaged                                    |Categorical|\n",
    "|`damage_beam_failure_severe`                          |Categorical variable that captures severe beam failure related damage to the building in terms of the proportion of overall area that is severely damaged                                        |Categorical|\n",
    "|`damage_cladding_glazing_insignificant`               |Categorical variable that captures insignificant cladding/glazing related damage to the building in terms of the proportion of overall area that is insignificantly damaged                      |Categorical|\n",
    "|`damage_cladding_glazing_moderate`                    |Categorical variable that captures moderate cladding/glazing related damage to the building in terms of the proportion of overall area that is moderately damaged                                |Categorical|\n",
    "|`damage_cladding_glazing_severe`                      |Categorical variable that captures severe cladding/glazing related damage to the building in terms of the proportion of overall area that is severely damaged                                    |Categorical|\n",
    "|`damage_column_failure_insignificant`                 |Categorical variable that captures insignificant column failure related damage to the building in terms of the proportion of overall area that is insignificantly damaged                        |Categorical|\n",
    "|`damage_column_failure_moderate`                      |Categorical variable that captures moderate column failure related damage to the building in terms of the proportion of overall area that is moderately damaged                                  |Categorical|\n",
    "|`damage_column_failure_severe`                        |Categorical variable that captures severe column failure related damage to the building in terms of the proportion of overall area that is severely damaged                                      |Categorical|\n",
    "|`damage_corner_separation_insignificant`              |Categorical variable that captures insignificant corner separation damage to the building in terms of the proportion of overall area that is insignificantly damaged                             |Categorical|\n",
    "|`damage_corner_separation_moderate`                   |Categorical variable that captures moderate corner separation damage to the building in terms of the proportion of overall area that is moderately damaged                                       |Categorical|\n",
    "|`damage_corner_separation_severe`                     |Categorical variable that captures severe corner separation damage to the building in terms of the proportion of overall area that is severely damaged                                           |Categorical|\n",
    "|`damage_delamination_failure_insignificant`           |Categorical variable that captures insignificant delamination failure related damage to the building in terms of the proportion of overall area that is insignificantly damaged                  |Categorical|\n",
    "|`damage_delamination_failure_moderate`                |Categorical variable that captures moderate delamination failure related damage to the building in terms of the proportion of overall area that is moderately damaged                            |Categorical|\n",
    "|`damage_delamination_failure_severe`                  |Categorical variable that captures severe delamination failure related damage to the building in terms of the proportion of overall area that is severely damaged                                |Categorical|\n",
    "|`damage_diagonal_cracking_insignificant`              |Categorical variable that captures insignificant diagonal cracking damage to the building in terms of the proportion of overall area that is insignificantly damaged                             |Categorical|\n",
    "|`damage_diagonal_cracking_moderate`                   |Categorical variable that captures moderate diagonal cracking damage to the building in terms of the proportion of overall area that is moderately damaged                                       |Categorical|\n",
    "|`damage_diagonal_cracking_severe`                     |Categorical variable that captures severe diagonal cracking damage to the building in terms of the proportion of overall area that is severely damaged                                           |Categorical|\n",
    "|`damage_foundation_insignificant`                     |Categorical variable that captures insignificant foundational damage to the building in terms of the proportion of overall area that is insignificantly damaged                                  |Categorical|\n",
    "|`damage_foundation_moderate`                          |Categorical variable that captures moderate foundational damage to the building in terms of the proportion of overall area that is moderately damaged                                            |Categorical|\n",
    "|`damage_foundation_severe`                            |Categorical variable that captures severe foundational damage to the building in terms of the proportion of overall area that is severely damaged                                                |Categorical|\n",
    "|`damage_gable_failure_insignificant`                  |Categorical variable that captures insignificant gable failure related damage to the building in terms of the proportion of overall area that is insignificantly damaged                         |Categorical|\n",
    "|`damage_gable_failure_moderate`                       |Categorical variable that captures moderate gable failure related damage to the building in terms of the proportion of overall area that is moderately damaged                                   |Categorical|\n",
    "|`damage_gable_failure_severe`                         |Categorical variable that captures severe gable failure related damage to the building in terms of the proportion of overall area that is severely damaged                                       |Categorical|\n",
    "|`damage_grade`                                        |Damage grade assigned to the building by the surveyor after assessment                                                                                                                           |Categorical|\n",
    "|`damage_in_plane_failure_insignificant`               |Categorical variable that captures insignificant in plane failure related damage to the building in terms of the proportion of overall area that is insignificantly damaged                      |Categorical|\n",
    "|`damage_in_plane_failure_moderate`                    |Categorical variable that captures moderate in plane failure related damage to the building in terms of the proportion of overall area that is moderately damaged                                |Categorical|\n",
    "|`damage_in_plane_failure_severe`                      |Categorical variable that captures severe in plane failure related damage to the building in terms of the proportion of overall area that is severely damaged                                    |Categorical|\n",
    "|`damage_infill_partition_failure_insignificant`       |Categorical variable that captures insignificant infill/partition failure related damage to the building in terms of the proportion of overall area that is insignificantly damaged              |Categorical|\n",
    "|`damage_infill_partition_failure_moderate`            |Categorical variable that captures moderate infill/partition failure related damage to the building in terms of the proportion of overall area that is moderately damaged                        |Categorical|\n",
    "|`damage_infill_partition_failure_severe`              |Categorical variable that captures severe infill/partition failure related damage to the building in terms of the proportion of overall area that is severely damaged                            |Categorical|\n",
    "|`damage_out_of_plane_failure_insignificant`           |Categorical variable that captures insignificant out of plane failure related damage to the building in terms of the proportion of overall area that is insignificantly damaged                  |Categorical|\n",
    "|`damage_out_of_plane_failure_moderate`                |Categorical variable that captures moderate out of plane failure related damage to the building in terms of the proportion of overall area that is moderately damaged                            |Categorical|\n",
    "|`damage_out_of_plane_failure_severe`                  |Categorical variable that captures severe out of plane failure related damage to the building in terms of the proportion of overall area that is severely damaged                                |Categorical|\n",
    "|`damage_out_of_plane_failure_walls_ncfr_insignificant`|Categorical variable that captures insignificant out of plane failure of walls not carrying floor/roof in the building in terms of the proportion of overall area that is insignificantly damaged|Categorical|\n",
    "|`damage_out_of_plane_failure_walls_ncfr_moderate`     |Categorical variable that captures moderate out of plane failure of walls not carrying floor/roof in the building in terms of the proportion of overall area that is moderately damaged          |Categorical|\n",
    "|`damage_out_of_plane_failure_walls_ncfr_severe`       |Categorical variable that captures severe out of plane failure of walls not carrying floor/roof in the building in terms of the proportion of overall area that is severely damaged              |Categorical|\n",
    "|`damage_overall_adjacent_building_risk`               |Adjacent building risk                                                                                                                                                                           |Categorical|\n",
    "|`damage_overall_collapse`                             |Overall damage assessment for the building - collapse                                                                                                                                            |Categorical|\n",
    "|`damage_overall_leaning`                              |Overall damage assessment for the building - leaning                                                                                                                                             |Categorical|\n",
    "|`damage_parapet_insignificant`                        |Categorical variable that captures insignificant parapet related damage to the building in terms of the proportion of overall area that is insignificantly damaged                               |Categorical|\n",
    "|`damage_parapet_moderate`                             |Categorical variable that captures moderate parapet related damage to the building in terms of the proportion of overall area that is moderately damaged                                         |Categorical|\n",
    "|`damage_parapet_severe`                               |Categorical variable that captures severe parapet related damage to the building in terms of the proportion of overall area that is severely damaged                                             |Categorical|\n",
    "|`damage_roof_insignificant`                           |Categorical variable that captures insignificant roof damage to the building in terms of the proportion of overall area that is insignificantly damaged                                          |Categorical|\n",
    "|`damage_roof_moderate`                                |Categorical variable that captures moderate roof damage to the building in terms of the proportion of overall area that is moderately damaged                                                    |Categorical|\n",
    "|`damage_roof_severe`                                  |Categorical variable that captures severe roof damage to the building in terms of the proportion of overall area that is severely damaged                                                        |Categorical|\n",
    "|`damage_staircase_insignificant`                      |Categorical variable that captures insignificant staircase related damage to the building in terms of the proportion of overall area that is insignificantly damaged                             |Categorical|\n",
    "|`damage_staircase_moderate`                           |Categorical variable that captures moderate staircase related damage to the building in terms of the proportion of overall area that is moderately damaged                                       |Categorical|\n",
    "|`damage_staircase_severe`                             |Categorical variable that captures severe staircase related damage to the building in terms of the proportion of overall area that is severely damaged                                           |Categorical|\n",
    "|`district_id`                                         |District where the building is located                                                                                                                                                           |Text       |\n",
    "|`has_damage_beam_failure`                             |Flag variable that indicates if the building has beam failure                                                                                                                                    |Boolean    |\n",
    "|`has_damage_cladding_glazing`                         |Flag variable that indicates if the building has damaged cladding/glazing                                                                                                                        |Boolean    |\n",
    "|`has_damage_column_failure`                           |Flag variable that indicates if the building has column failure                                                                                                                                  |Boolean    |\n",
    "|`has_damage_corner_separation`                        |Flag variable that indicates if the building has corner separation related damage                                                                                                                |Boolean    |\n",
    "|`has_damage_delamination_failure`                     |Flag variable that indicates if the building has delamination failure                                                                                                                            |Boolean    |\n",
    "|`has_damage_diagonal_cracking`                        |Flag variable that indicates if the building has diagonal cracking related damage                                                                                                               |Boolean    |\n",
    "|`has_damage_foundation`                               |Flag variable that indicates if the building has foundational damage                                                                                                                             |Boolean    |\n",
    "|`has_damage_gable_failure`                            |Flag variable that indicates if the building has gable failure                                                                                                                                   |Boolean    |\n",
    "|`has_damage_in_plane_failure`                         |Flag variable that indicates if the building has in-plane-failure                                                                                                                                |Boolean    |\n",
    "|`has_damage_infill_partition_failure`                 |Flag variable that indicates if the building has infill/partition failure                                                                                                                        |Boolean    |\n",
    "|`has_damage_out_of_plane_failure`                     |Flag variable that indicates if the building has out-plane-failure                                                                                                                               |Boolean    |\n",
    "|`has_damage_out_of_plane_walls_ncfr_failure`          |Flag variable that indicates if the building has out-of-plane-failure of walls not carrying floor or roof                                                                                        |Boolean    |\n",
    "|`has_damage_parapet`                                  |Flag variable that indicates if the building has damaged parapet                                                                                                                                 |Boolean    |\n",
    "|`has_damage_roof`                                     |Flag variable that indicates if the building has roof damage                                                                                                                                     |Boolean    |\n",
    "|`has_damage_staircase`                                |Flag variable that indicates if the building has damaged staircase                                                                                                                               |Boolean    |\n",
    "|`has_geotechnical_risk_fault_crack`                   |Flag variable that indicates if the building has geotechnical risks related to fault cracking                                                                                                    |Boolean    |\n",
    "|`has_geotechnical_risk_flood`                         |Flag variable that indicates if the building has geotechnical risks related to flood                                                                                                             |Boolean    |\n",
    "|`has_geotechnical_risk_land_settlement`               |Flag variable that indicates if the building has geotechnical risks related to land settlement                                                                                                   |Boolean    |\n",
    "|`has_geotechnical_risk_landslide`                     |Flag variable that indicates if the building has risk geotechnical risks related to landslide                                                                                                    |Boolean    |\n",
    "|`has_geotechnical_risk_liquefaction`                  |Flag variable that indicates if the building has geotechnical risks related to liquefaction                                                                                                      |Boolean    |\n",
    "|`has_geotechnical_risk_other`                         |Flag variable that indicates if the building has any other geotechnical risk                                                                                                                     |Boolean    |\n",
    "|`has_geotechnical_risk_rock_fall`                     |Flag variable that indicates if the building has geotechnical risk related to rockfall                                                                                                           |Boolean    |\n",
    "|`has_geotechnical_risk`                               |Flag variable that indicates if the building has geotechnical risk                                                                                                                               |Boolean    |\n",
    "|`has_repair_started`                                  |Flag variable that indicates if the repair work had started during the time of the survey                                                                                                        |Boolean    |\n",
    "|`id`                                                  |A unique ID that identifies a unique information from all table                                                                                                                                  |Number     |\n",
    "|`technical_solution_proposed`                         |Technical solution proposed by the surveyor after assessment                                                                                                                                     |Categorical|\n"
   ]
  },
  {
   "cell_type": "markdown",
   "id": "e1cc194b-e290-4a15-a7aa-ede834a6bda5",
   "metadata": {
    "deletable": false,
    "editable": false
   },
   "source": [
    "# Table `household_demographics`"
   ]
  },
  {
   "cell_type": "markdown",
   "id": "63596965-f122-4c8a-8231-610b526361f6",
   "metadata": {
    "deletable": false,
    "editable": false
   },
   "source": [
    "|Variable                                              |Description                                                     |Type       |\n",
    "|:-----------------------------------------------------|:---------------------------------------------------------------|-----------|\n",
    "|`household_id`                                        |A unique ID that identifies every individual household          |Text       |\n",
    "|`gender_household_head`                               |Gender of household head                                        |Categorical|\n",
    "|`age_household_head`                                  |Age of household head                                           |Number     |\n",
    "|`caste_household`                                     |Caste/Ethnicity of household                                    |Categorical|\n",
    "|`education_level_household_head`                      |Education level of household head                               |Categorical|\n",
    "|`income_level_household`                              |Household's average monthly income                              |Categorical|\n",
    "|`size_household`                                      |Size of household                                               |Number     |\n",
    "|`is_bank_account_present_in_household`                |Flag variable that indicates if the household has bank account  |Boolean    |\n"
   ]
  },
  {
   "cell_type": "markdown",
   "id": "e853054d-899d-458e-9922-86655f05f10d",
   "metadata": {
    "deletable": false,
    "editable": false
   },
   "source": [
    "# Table `id_map`"
   ]
  },
  {
   "cell_type": "markdown",
   "id": "a101ae05-0444-4f5c-b982-aa3684841b68",
   "metadata": {
    "deletable": false,
    "editable": false
   },
   "source": [
    "| Variable       | Description                                                   | Type |  \n",
    "| :------------- | :------------------------------------------------------------ | :--- |  \n",
    "| `building_id`  | A unique ID that identifies a unique building from the survey | Text |  \n",
    "| `district_id`  | District of residence of the household                        | Text |  \n",
    "| `household_id` | A unique ID that identifies every individual household        | Text |  \n",
    "| `vdcmun_id`    | Municipality of residence of the household                    | Text |  \n"
   ]
  }
 ],
 "metadata": {
  "kernelspec": {
   "display_name": "Python 3 (ipykernel)",
   "language": "python",
   "name": "python3"
  },
  "language_info": {
   "codemirror_mode": {
    "name": "ipython",
    "version": 3
   },
   "file_extension": ".py",
   "mimetype": "text/x-python",
   "name": "python",
   "nbconvert_exporter": "python",
   "pygments_lexer": "ipython3",
   "version": "3.9.6"
  }
 },
 "nbformat": 4,
 "nbformat_minor": 5
}
